{
 "cells": [
  {
   "cell_type": "markdown",
   "metadata": {},
   "source": [
    "## Continuing Cleaning using SQL via Python"
   ]
  },
  {
   "cell_type": "markdown",
   "metadata": {},
   "source": [
    "Connection"
   ]
  },
  {
   "cell_type": "code",
   "execution_count": null,
   "metadata": {},
   "outputs": [],
   "source": [
    "import pyodbc"
   ]
  },
  {
   "cell_type": "code",
   "execution_count": null,
   "metadata": {},
   "outputs": [
    {
     "name": "stdout",
     "output_type": "stream",
     "text": [
      "Connected successfully!\n"
     ]
    }
   ],
   "source": [
    "DRIVER_NAME = 'ODBC Driver 17 for SQL Server'\n",
    "SERVER_NAME = r'DESKTOP-L3GBMQ5\\SQLEXPRESS'\n",
    "DATABASE_NAME = 'Healthcare_Case_Study'\n",
    "\n",
    "connection_string = (\n",
    "    f\"DRIVER={{{DRIVER_NAME}}};\"\n",
    "    f\"SERVER={SERVER_NAME};\"\n",
    "    f\"DATABASE={DATABASE_NAME};\"\n",
    "    f\"Trusted_Connection=yes;\"\n",
    ")\n",
    "\n",
    "conn = pyodbc.connect(connection_string)\n",
    "cursor = conn.cursor()\n",
    "print(\"Connected successfully!\")"
   ]
  },
  {
   "cell_type": "markdown",
   "metadata": {},
   "source": [
    "Handle NULL Satisfaction Scores by replacing with department averages"
   ]
  },
  {
   "cell_type": "code",
   "execution_count": null,
   "metadata": {},
   "outputs": [
    {
     "data": {
      "text/plain": [
       "<pyodbc.Cursor at 0x1d1e01a6eb0>"
      ]
     },
     "metadata": {},
     "output_type": "display_data"
    }
   ],
   "source": [
    "cursor.execute(\"\"\"\n",
    "UPDATE H\n",
    "SET Satisfaction_Score = A.AvgSatisfaction\n",
    "FROM Hospital_Operations_Cleaned_1 H\n",
    "JOIN (\n",
    "    SELECT \n",
    "        Department\n",
    "        ,AVG(Satisfaction_Score) AS AvgSatisfaction\n",
    "    FROM \n",
    "        Hospital_Operations_Cleaned_1\n",
    "    WHERE \n",
    "        Satisfaction_Score IS NOT NULL\n",
    "    GROUP BY \n",
    "        Department\n",
    ") A\n",
    "ON \n",
    "    H.Department = A.Department\n",
    "WHERE \n",
    "    H.Satisfaction_Score IS NULL;\n",
    "\"\"\")"
   ]
  },
  {
   "cell_type": "markdown",
   "metadata": {},
   "source": [
    "Replace NULL Wait_Time _Minutes with dapartment median"
   ]
  },
  {
   "cell_type": "code",
   "execution_count": null,
   "metadata": {},
   "outputs": [
    {
     "data": {
      "text/plain": [
       "<pyodbc.Cursor at 0x1d1e01a6eb0>"
      ]
     },
     "metadata": {},
     "output_type": "display_data"
    }
   ],
   "source": [
    "cursor.execute(\"\"\"\n",
    "    ;WITH DeptMedian AS (\n",
    "        SELECT\n",
    "            Department\n",
    "            ,PERCENTILE_CONT(0.5) WITHIN GROUP (ORDER BY Wait_Time_Minutes)\n",
    "                OVER (PARTITION BY Department) AS MedianWait\n",
    "        FROM \n",
    "            Hospital_Operations_Cleaned_1\n",
    "    )\n",
    "UPDATE H\n",
    "SET\n",
    "    Wait_Time_Minutes = D.MedianWait\n",
    "FROM \n",
    "    Hospital_Operations_Cleaned_1 H\n",
    "JOIN \n",
    "    DeptMedian D \n",
    "        ON H.Department = D.Department\n",
    "WHERE \n",
    "    H.Wait_Time_Minutes IS NULL;\n",
    "\"\"\")"
   ]
  },
  {
   "cell_type": "markdown",
   "metadata": {},
   "source": [
    "Standardize Insurance Type and Department text "
   ]
  },
  {
   "cell_type": "code",
   "execution_count": null,
   "metadata": {},
   "outputs": [
    {
     "data": {
      "text/plain": [
       "<pyodbc.Cursor at 0x1d1e01a6eb0>"
      ]
     },
     "metadata": {},
     "output_type": "display_data"
    }
   ],
   "source": [
    "cursor.execute(\"\"\"\n",
    "    UPDATE \n",
    "        Hospital_Operations_Cleaned_1\n",
    "    SET\n",
    "        Insurance_Type = CASE\n",
    "        WHEN Insurance_Type IN ('Privte', 'Private','Privat') THEN 'Private'\n",
    "        WHEN Insurance_Type IN ('Self Pay', 'Self-Pay','Selfpay') THEN 'Self-Pay'\n",
    "        WHEN Insurance_Type IN ('Public ', 'Publick','Publik') THEN 'Public'\n",
    "        ELSE Insurance_Type\n",
    "        END\n",
    "        ,Department = UPPER(LEFT(Department,1)) + LOWER(SUBSTRING(Department,2,LEN(Department)))\n",
    "    ;\n",
    "\"\"\")"
   ]
  },
  {
   "cell_type": "markdown",
   "metadata": {},
   "source": [
    "Handle invalid or negative stay lenghs"
   ]
  },
  {
   "cell_type": "code",
   "execution_count": null,
   "metadata": {},
   "outputs": [
    {
     "data": {
      "text/plain": [
       "<pyodbc.Cursor at 0x1d1e01a6eb0>"
      ]
     },
     "metadata": {},
     "output_type": "display_data"
    }
   ],
   "source": [
    "cursor.execute(\"\"\"\n",
    "    DELETE FROM\n",
    "        Hospital_Operations_Cleaned_1\n",
    "    WHERE\n",
    "        Length_of_Stay < 0 OR Length_of_Stay IS NULL\n",
    "        ;       \n",
    "               \n",
    "    \"\"\")"
   ]
  },
  {
   "cell_type": "code",
   "execution_count": null,
   "metadata": {},
   "outputs": [
    {
     "data": {
      "text/plain": [
       "<pyodbc.Cursor at 0x1d1e01a6eb0>"
      ]
     },
     "metadata": {},
     "output_type": "display_data"
    }
   ],
   "source": [
    "cursor.execute(\"\"\"\n",
    "    UPDATE\n",
    "        Hospital_Operations_Cleaned_1\n",
    "    SET\n",
    "        Readmission_30Days = CASE\n",
    "            WHEN LOWER(Readmission_30Days) IN ('yes', 'y') THEN 'Y'\n",
    "            WHEN LOWER(Readmission_30Days) IN ('no', 'n') THEN 'N'\n",
    "            ELSE '0'END\n",
    "        ,Gender = CASE\n",
    "        WHEN LOWER(Gender) LIKE 'm%' THEN 'M'\n",
    "        WHEN LOWER(Gender) LIKE 'f%' THEN 'F'\n",
    "        ELSE 'U'END;               \n",
    "\"\"\")"
   ]
  },
  {
   "cell_type": "markdown",
   "metadata": {},
   "source": [
    "Commit all changes "
   ]
  },
  {
   "cell_type": "code",
   "execution_count": null,
   "metadata": {},
   "outputs": [],
   "source": [
    "conn.commit()"
   ]
  },
  {
   "cell_type": "code",
   "execution_count": null,
   "metadata": {},
   "outputs": [],
   "source": [
    "import pandas as pd"
   ]
  },
  {
   "cell_type": "code",
   "execution_count": null,
   "metadata": {},
   "outputs": [],
   "source": [
    "check_query = \"\"\"\n",
    "SELECT\n",
    "    COUNT(*) AS TotalRecords\n",
    "    ,COUNT(CASE WHEN Satisfaction_Score IS NULL THEN 1 END) AS Missing_Satisfaction\n",
    "    ,COUNT(CASE WHEN Wait_Time_Minutes IS NULL THEN 1 END) AS Missing_Wait\n",
    "    ,COUNT(CASE WHEN Length_of_Stay < 0 OR Length_of_Stay IS NULL THEN 1 END) AS Negative_Stay\n",
    "    ,COUNT(DISTINCT Insurance_Type) AS Unique_Insurance_Types\n",
    "FROM\n",
    "    Hospital_Operations_Cleaned_1;\n",
    "\"\"\""
   ]
  },
  {
   "cell_type": "code",
   "execution_count": null,
   "metadata": {},
   "outputs": [
    {
     "name": "stderr",
     "output_type": "stream",
     "text": [
      "C:\\Users\\GIGABYTE\\AppData\\Local\\Temp\\ipykernel_10784\\359547653.py:1: UserWarning: pandas only supports SQLAlchemy connectable (engine/connection) or database string URI or sqlite3 DBAPI2 connection. Other DBAPI2 objects are not tested. Please consider using SQLAlchemy.\n",
      "  df_check = pd.read_sql(check_query, conn)\n"
     ]
    },
    {
     "data": {
      "application/vnd.microsoft.datawrangler.viewer.v0+json": {
       "columns": [
        {
         "name": "index",
         "rawType": "int64",
         "type": "integer"
        },
        {
         "name": "TotalRecords",
         "rawType": "int64",
         "type": "integer"
        },
        {
         "name": "Missing_Satisfaction",
         "rawType": "int64",
         "type": "integer"
        },
        {
         "name": "Missing_Wait",
         "rawType": "int64",
         "type": "integer"
        },
        {
         "name": "Negative_Stay",
         "rawType": "int64",
         "type": "integer"
        },
        {
         "name": "Unique_Insurance_Types",
         "rawType": "int64",
         "type": "integer"
        }
       ],
       "ref": "c0220965-2303-42d1-be3b-3323b72605c3",
       "rows": [
        [
         "0",
         "1252",
         "0",
         "0",
         "0",
         "3"
        ]
       ],
       "shape": {
        "columns": 5,
        "rows": 1
       }
      },
      "text/html": [
       "<div>\n",
       "<style scoped>\n",
       "    .dataframe tbody tr th:only-of-type {\n",
       "        vertical-align: middle;\n",
       "    }\n",
       "\n",
       "    .dataframe tbody tr th {\n",
       "        vertical-align: top;\n",
       "    }\n",
       "\n",
       "    .dataframe thead th {\n",
       "        text-align: right;\n",
       "    }\n",
       "</style>\n",
       "<table border=\"1\" class=\"dataframe\">\n",
       "  <thead>\n",
       "    <tr style=\"text-align: right;\">\n",
       "      <th></th>\n",
       "      <th>TotalRecords</th>\n",
       "      <th>Missing_Satisfaction</th>\n",
       "      <th>Missing_Wait</th>\n",
       "      <th>Negative_Stay</th>\n",
       "      <th>Unique_Insurance_Types</th>\n",
       "    </tr>\n",
       "  </thead>\n",
       "  <tbody>\n",
       "    <tr>\n",
       "      <th>0</th>\n",
       "      <td>1252</td>\n",
       "      <td>0</td>\n",
       "      <td>0</td>\n",
       "      <td>0</td>\n",
       "      <td>3</td>\n",
       "    </tr>\n",
       "  </tbody>\n",
       "</table>\n",
       "</div>"
      ],
      "text/plain": [
       "   TotalRecords  Missing_Satisfaction  Missing_Wait  Negative_Stay  \\\n",
       "0          1252                     0             0              0   \n",
       "\n",
       "   Unique_Insurance_Types  \n",
       "0                       3  "
      ]
     },
     "metadata": {},
     "output_type": "display_data"
    }
   ],
   "source": [
    "df_check = pd.read_sql(check_query, conn)\n",
    "df_check"
   ]
  },
  {
   "cell_type": "markdown",
   "metadata": {},
   "source": [
    "Save the Cleaned Table"
   ]
  },
  {
   "cell_type": "code",
   "execution_count": null,
   "metadata": {},
   "outputs": [
    {
     "data": {
      "text/plain": [
       "<pyodbc.Cursor at 0x1d1e01a6eb0>"
      ]
     },
     "metadata": {},
     "output_type": "display_data"
    }
   ],
   "source": [
    "cursor.execute(\"\"\"\n",
    "    SELECT \n",
    "        *\n",
    "    INTO \n",
    "        Hospital_Operations_Cleaned_2\n",
    "    FROM\n",
    "        Hospital_Operations_Cleaned_1\n",
    "\"\"\")"
   ]
  },
  {
   "cell_type": "code",
   "execution_count": null,
   "metadata": {},
   "outputs": [],
   "source": [
    "conn.commit()"
   ]
  }
 ],
 "metadata": {
  "language_info": {
   "name": "python"
  }
 },
 "nbformat": 4,
 "nbformat_minor": 2
}
