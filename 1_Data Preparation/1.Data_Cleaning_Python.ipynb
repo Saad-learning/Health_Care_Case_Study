{
 "cells": [
  {
   "cell_type": "markdown",
   "metadata": {},
   "source": [
    "## Python Data Cleaning"
   ]
  },
  {
   "cell_type": "markdown",
   "metadata": {},
   "source": [
    "### Load The Dataset"
   ]
  },
  {
   "cell_type": "code",
   "execution_count": 29,
   "metadata": {},
   "outputs": [],
   "source": [
    "import pandas as pd\n",
    "import numpy as np"
   ]
  },
  {
   "cell_type": "code",
   "execution_count": 3,
   "metadata": {},
   "outputs": [],
   "source": [
    "df = pd.read_csv(r\"F:\\Lerning\\Case Studies\\Healthcare\\0_Planning\\Hospital_Operations.csv\")"
   ]
  },
  {
   "cell_type": "code",
   "execution_count": 4,
   "metadata": {},
   "outputs": [
    {
     "data": {
      "application/vnd.microsoft.datawrangler.viewer.v0+json": {
       "columns": [
        {
         "name": "index",
         "rawType": "int64",
         "type": "integer"
        },
        {
         "name": "Patient_ID",
         "rawType": "object",
         "type": "string"
        },
        {
         "name": "Admission_Date",
         "rawType": "object",
         "type": "string"
        },
        {
         "name": "Discharge_Date",
         "rawType": "object",
         "type": "string"
        },
        {
         "name": "Department",
         "rawType": "object",
         "type": "string"
        },
        {
         "name": "Doctor_ID",
         "rawType": "object",
         "type": "string"
        },
        {
         "name": "Doctor_Name",
         "rawType": "object",
         "type": "string"
        },
        {
         "name": "Diagnosis",
         "rawType": "object",
         "type": "string"
        },
        {
         "name": "Treatment_Type",
         "rawType": "object",
         "type": "string"
        },
        {
         "name": "Treatment_Cost",
         "rawType": "float64",
         "type": "float"
        },
        {
         "name": "Insurance_Type",
         "rawType": "object",
         "type": "string"
        },
        {
         "name": "Satisfaction_Score",
         "rawType": "float64",
         "type": "float"
        },
        {
         "name": "Readmission_30Days",
         "rawType": "object",
         "type": "string"
        },
        {
         "name": "Bed_ID",
         "rawType": "object",
         "type": "string"
        },
        {
         "name": "Region",
         "rawType": "object",
         "type": "string"
        },
        {
         "name": "Wait_Time_Minutes",
         "rawType": "float64",
         "type": "float"
        },
        {
         "name": "Doctor_Experience_Years",
         "rawType": "int64",
         "type": "integer"
        },
        {
         "name": "Age",
         "rawType": "int64",
         "type": "integer"
        },
        {
         "name": "Gender",
         "rawType": "object",
         "type": "string"
        },
        {
         "name": "Total_Revenue",
         "rawType": "float64",
         "type": "float"
        }
       ],
       "ref": "b868e4c7-8454-43b7-84b7-5677eb8dacf8",
       "rows": [
        [
         "0",
         "P1000",
         "2024-08-03",
         "2024-08-07",
         "Cardiology",
         "D053",
         "Dr. Yara Hamed",
         "Migraine",
         "Inpatient",
         "1559.81",
         "self pay",
         "7.0",
         "y",
         "B44",
         "North",
         "79.0",
         "6",
         "2",
         "M",
         "2214.44"
        ],
        [
         "1",
         "P1001",
         "2024-04-30",
         "2024-04-28",
         "Cardiology",
         "D062",
         "Dr. Omar Saeed",
         "Diabetes",
         "OUTPATIENT",
         "2193.57",
         "Public",
         "4.0",
         "y",
         "B03",
         "West",
         "174.0",
         "5",
         "51",
         "male",
         "2119.59"
        ],
        [
         "2",
         "P1002",
         "2024-11-22",
         "2024-11-26",
         "ORTHO",
         "D104",
         "Dr. Omar Saeed",
         "Fracture",
         "inpatient",
         "1519.8",
         "privte",
         "8.0",
         "Yes",
         "B06",
         "South",
         "176.0",
         "22",
         "4",
         "M",
         "2304.03"
        ],
        [
         "3",
         "P1003",
         "2024-02-14",
         "2024-02-23",
         "pediatric",
         "D026",
         "Dr Rana Elbaz",
         "Migraine",
         "Emergency",
         "2590.77",
         "self pay",
         "3.0",
         "No",
         "B45",
         "North",
         null,
         "9",
         "29",
         "F",
         "3142.18"
        ],
        [
         "4",
         "P1004",
         "2024-04-10",
         "2024-04-22",
         "Orthopedics",
         "D041",
         "dr. omar said",
         "Migraine",
         "Emergency",
         "499.46",
         "self pay",
         "1.0",
         "y",
         "B09",
         "North",
         "140.0",
         "8",
         "12",
         "male",
         "589.42"
        ]
       ],
       "shape": {
        "columns": 19,
        "rows": 5
       }
      },
      "text/html": [
       "<div>\n",
       "<style scoped>\n",
       "    .dataframe tbody tr th:only-of-type {\n",
       "        vertical-align: middle;\n",
       "    }\n",
       "\n",
       "    .dataframe tbody tr th {\n",
       "        vertical-align: top;\n",
       "    }\n",
       "\n",
       "    .dataframe thead th {\n",
       "        text-align: right;\n",
       "    }\n",
       "</style>\n",
       "<table border=\"1\" class=\"dataframe\">\n",
       "  <thead>\n",
       "    <tr style=\"text-align: right;\">\n",
       "      <th></th>\n",
       "      <th>Patient_ID</th>\n",
       "      <th>Admission_Date</th>\n",
       "      <th>Discharge_Date</th>\n",
       "      <th>Department</th>\n",
       "      <th>Doctor_ID</th>\n",
       "      <th>Doctor_Name</th>\n",
       "      <th>Diagnosis</th>\n",
       "      <th>Treatment_Type</th>\n",
       "      <th>Treatment_Cost</th>\n",
       "      <th>Insurance_Type</th>\n",
       "      <th>Satisfaction_Score</th>\n",
       "      <th>Readmission_30Days</th>\n",
       "      <th>Bed_ID</th>\n",
       "      <th>Region</th>\n",
       "      <th>Wait_Time_Minutes</th>\n",
       "      <th>Doctor_Experience_Years</th>\n",
       "      <th>Age</th>\n",
       "      <th>Gender</th>\n",
       "      <th>Total_Revenue</th>\n",
       "    </tr>\n",
       "  </thead>\n",
       "  <tbody>\n",
       "    <tr>\n",
       "      <th>0</th>\n",
       "      <td>P1000</td>\n",
       "      <td>2024-08-03</td>\n",
       "      <td>2024-08-07</td>\n",
       "      <td>Cardiology</td>\n",
       "      <td>D053</td>\n",
       "      <td>Dr. Yara Hamed</td>\n",
       "      <td>Migraine</td>\n",
       "      <td>Inpatient</td>\n",
       "      <td>1559.81</td>\n",
       "      <td>self pay</td>\n",
       "      <td>7.0</td>\n",
       "      <td>y</td>\n",
       "      <td>B44</td>\n",
       "      <td>North</td>\n",
       "      <td>79.0</td>\n",
       "      <td>6</td>\n",
       "      <td>2</td>\n",
       "      <td>M</td>\n",
       "      <td>2214.44</td>\n",
       "    </tr>\n",
       "    <tr>\n",
       "      <th>1</th>\n",
       "      <td>P1001</td>\n",
       "      <td>2024-04-30</td>\n",
       "      <td>2024-04-28</td>\n",
       "      <td>Cardiology</td>\n",
       "      <td>D062</td>\n",
       "      <td>Dr. Omar Saeed</td>\n",
       "      <td>Diabetes</td>\n",
       "      <td>OUTPATIENT</td>\n",
       "      <td>2193.57</td>\n",
       "      <td>Public</td>\n",
       "      <td>4.0</td>\n",
       "      <td>y</td>\n",
       "      <td>B03</td>\n",
       "      <td>West</td>\n",
       "      <td>174.0</td>\n",
       "      <td>5</td>\n",
       "      <td>51</td>\n",
       "      <td>male</td>\n",
       "      <td>2119.59</td>\n",
       "    </tr>\n",
       "    <tr>\n",
       "      <th>2</th>\n",
       "      <td>P1002</td>\n",
       "      <td>2024-11-22</td>\n",
       "      <td>2024-11-26</td>\n",
       "      <td>ORTHO</td>\n",
       "      <td>D104</td>\n",
       "      <td>Dr. Omar Saeed</td>\n",
       "      <td>Fracture</td>\n",
       "      <td>inpatient</td>\n",
       "      <td>1519.80</td>\n",
       "      <td>privte</td>\n",
       "      <td>8.0</td>\n",
       "      <td>Yes</td>\n",
       "      <td>B06</td>\n",
       "      <td>South</td>\n",
       "      <td>176.0</td>\n",
       "      <td>22</td>\n",
       "      <td>4</td>\n",
       "      <td>M</td>\n",
       "      <td>2304.03</td>\n",
       "    </tr>\n",
       "    <tr>\n",
       "      <th>3</th>\n",
       "      <td>P1003</td>\n",
       "      <td>2024-02-14</td>\n",
       "      <td>2024-02-23</td>\n",
       "      <td>pediatric</td>\n",
       "      <td>D026</td>\n",
       "      <td>Dr Rana Elbaz</td>\n",
       "      <td>Migraine</td>\n",
       "      <td>Emergency</td>\n",
       "      <td>2590.77</td>\n",
       "      <td>self pay</td>\n",
       "      <td>3.0</td>\n",
       "      <td>No</td>\n",
       "      <td>B45</td>\n",
       "      <td>North</td>\n",
       "      <td>NaN</td>\n",
       "      <td>9</td>\n",
       "      <td>29</td>\n",
       "      <td>F</td>\n",
       "      <td>3142.18</td>\n",
       "    </tr>\n",
       "    <tr>\n",
       "      <th>4</th>\n",
       "      <td>P1004</td>\n",
       "      <td>2024-04-10</td>\n",
       "      <td>2024-04-22</td>\n",
       "      <td>Orthopedics</td>\n",
       "      <td>D041</td>\n",
       "      <td>dr. omar said</td>\n",
       "      <td>Migraine</td>\n",
       "      <td>Emergency</td>\n",
       "      <td>499.46</td>\n",
       "      <td>self pay</td>\n",
       "      <td>1.0</td>\n",
       "      <td>y</td>\n",
       "      <td>B09</td>\n",
       "      <td>North</td>\n",
       "      <td>140.0</td>\n",
       "      <td>8</td>\n",
       "      <td>12</td>\n",
       "      <td>male</td>\n",
       "      <td>589.42</td>\n",
       "    </tr>\n",
       "  </tbody>\n",
       "</table>\n",
       "</div>"
      ],
      "text/plain": [
       "  Patient_ID Admission_Date Discharge_Date   Department Doctor_ID  \\\n",
       "0      P1000     2024-08-03     2024-08-07   Cardiology      D053   \n",
       "1      P1001     2024-04-30     2024-04-28   Cardiology      D062   \n",
       "2      P1002     2024-11-22     2024-11-26        ORTHO      D104   \n",
       "3      P1003     2024-02-14     2024-02-23    pediatric      D026   \n",
       "4      P1004     2024-04-10     2024-04-22  Orthopedics      D041   \n",
       "\n",
       "      Doctor_Name Diagnosis Treatment_Type  Treatment_Cost Insurance_Type  \\\n",
       "0  Dr. Yara Hamed  Migraine      Inpatient         1559.81       self pay   \n",
       "1  Dr. Omar Saeed  Diabetes     OUTPATIENT         2193.57         Public   \n",
       "2  Dr. Omar Saeed  Fracture      inpatient         1519.80         privte   \n",
       "3   Dr Rana Elbaz  Migraine      Emergency         2590.77       self pay   \n",
       "4   dr. omar said  Migraine      Emergency          499.46       self pay   \n",
       "\n",
       "   Satisfaction_Score Readmission_30Days Bed_ID Region  Wait_Time_Minutes  \\\n",
       "0                 7.0                  y    B44  North               79.0   \n",
       "1                 4.0                  y    B03   West              174.0   \n",
       "2                 8.0                Yes    B06  South              176.0   \n",
       "3                 3.0                 No    B45  North                NaN   \n",
       "4                 1.0                  y    B09  North              140.0   \n",
       "\n",
       "   Doctor_Experience_Years  Age Gender  Total_Revenue  \n",
       "0                        6    2      M        2214.44  \n",
       "1                        5   51   male        2119.59  \n",
       "2                       22    4      M        2304.03  \n",
       "3                        9   29      F        3142.18  \n",
       "4                        8   12   male         589.42  "
      ]
     },
     "execution_count": 4,
     "metadata": {},
     "output_type": "execute_result"
    }
   ],
   "source": [
    "df.head()"
   ]
  },
  {
   "cell_type": "markdown",
   "metadata": {},
   "source": [
    "Duplicates"
   ]
  },
  {
   "cell_type": "code",
   "execution_count": 6,
   "metadata": {},
   "outputs": [
    {
     "data": {
      "text/plain": [
       "0"
      ]
     },
     "execution_count": 6,
     "metadata": {},
     "output_type": "execute_result"
    }
   ],
   "source": [
    "df.duplicated().sum()"
   ]
  },
  {
   "cell_type": "markdown",
   "metadata": {},
   "source": [
    "Standardize text"
   ]
  },
  {
   "cell_type": "code",
   "execution_count": 24,
   "metadata": {},
   "outputs": [],
   "source": [
    "df['Department'] = df['Department'].str.strip().str.title()\n",
    "df['Doctor_Name'] = df['Doctor_Name'].str.strip().str.title()\n",
    "df['Insurance_Type'] = df['Insurance_Type'].str.strip().str.title()"
   ]
  },
  {
   "cell_type": "markdown",
   "metadata": {},
   "source": [
    "Typos"
   ]
  },
  {
   "cell_type": "code",
   "execution_count": 25,
   "metadata": {},
   "outputs": [],
   "source": [
    "\n",
    "df['Insurance_Type'] = df['Insurance_Type'].replace({\n",
    "    'Privte': 'Private',\n",
    "    'Self Pay': 'Self-Pay',\n",
    "    'Public ': 'Public',\n",
    "    'Publick': 'Public'\n",
    "})\n"
   ]
  },
  {
   "cell_type": "markdown",
   "metadata": {},
   "source": [
    "Standardize readmission column"
   ]
  },
  {
   "cell_type": "code",
   "execution_count": 26,
   "metadata": {},
   "outputs": [],
   "source": [
    "df['Readmission_30Days'] = df['Readmission_30Days'].astype(str).str.lower().str.strip()\n",
    "df['Readmission_30Days'] = df['Readmission_30Days'].replace({\n",
    "    'yes': 'Y', 'y': 'Y', 'no': 'N', 'n': 'N'\n",
    "})"
   ]
  },
  {
   "cell_type": "markdown",
   "metadata": {},
   "source": [
    "Standardize Gender"
   ]
  },
  {
   "cell_type": "code",
   "execution_count": 27,
   "metadata": {},
   "outputs": [],
   "source": [
    "df['Gender'] = df['Gender'].str.strip().str.title().replace({\n",
    "    'Male':'M', 'Female' :'F'\n",
    "})"
   ]
  },
  {
   "cell_type": "markdown",
   "metadata": {},
   "source": [
    "Remove invalid date rows (where discharge < admission)"
   ]
  },
  {
   "cell_type": "code",
   "execution_count": 28,
   "metadata": {},
   "outputs": [],
   "source": [
    "invalid_dates = df['Discharge_Date'] < df['Admission_Date']"
   ]
  },
  {
   "cell_type": "code",
   "execution_count": 32,
   "metadata": {},
   "outputs": [],
   "source": [
    "df.loc[invalid_dates, ['Admission_Date', 'Discharge_Date']] = np.nan "
   ]
  },
  {
   "cell_type": "markdown",
   "metadata": {},
   "source": [
    "Fill Wait Time missing with department median "
   ]
  },
  {
   "cell_type": "code",
   "execution_count": 33,
   "metadata": {},
   "outputs": [],
   "source": [
    "df['Wait_Time_Minutes'] = df.groupby('Department')['Wait_Time_Minutes'].transform(\n",
    "    lambda x: x.fillna(x.median())\n",
    ")"
   ]
  },
  {
   "cell_type": "markdown",
   "metadata": {},
   "source": [
    "Fill Satisfaction Score missing with department mean"
   ]
  },
  {
   "cell_type": "code",
   "execution_count": 34,
   "metadata": {},
   "outputs": [],
   "source": [
    "df['Satisfaction_Score'] = df.groupby('Department')['Satisfaction_Score'].transform(\n",
    "    lambda x: x.fillna(round(x.median()))\n",
    ")"
   ]
  },
  {
   "cell_type": "markdown",
   "metadata": {},
   "source": [
    "Derived columns"
   ]
  },
  {
   "cell_type": "code",
   "execution_count": 35,
   "metadata": {},
   "outputs": [],
   "source": [
    "df['Length_of_Stay'] = (df['Discharge_Date'] - df['Admission_Date']).dt.days"
   ]
  },
  {
   "cell_type": "code",
   "execution_count": 36,
   "metadata": {},
   "outputs": [],
   "source": [
    "df['Profit'] = df['Total_Revenue'] - df['Treatment_Cost']"
   ]
  },
  {
   "cell_type": "markdown",
   "metadata": {},
   "source": [
    "Remove rows with invalid or missing lengh of stay"
   ]
  },
  {
   "cell_type": "code",
   "execution_count": 37,
   "metadata": {},
   "outputs": [],
   "source": [
    "df = df[df['Length_of_Stay'] .notnull() & (df['Length_of_Stay'] >= 0)]"
   ]
  },
  {
   "cell_type": "markdown",
   "metadata": {},
   "source": [
    "Fill remaining numiric columns with department mean"
   ]
  },
  {
   "cell_type": "code",
   "execution_count": 38,
   "metadata": {},
   "outputs": [],
   "source": [
    "numeric_cols = df.select_dtypes(include=[np.number]).columns"
   ]
  },
  {
   "cell_type": "code",
   "execution_count": 39,
   "metadata": {},
   "outputs": [],
   "source": [
    "for col in numeric_cols:\n",
    "    df[col] = df.groupby('Department')[col].transform(\n",
    "        lambda x: x.fillna(x.mean())\n",
    "    )"
   ]
  },
  {
   "cell_type": "markdown",
   "metadata": {},
   "source": [
    "Fill remaining categorical columns with mode"
   ]
  },
  {
   "cell_type": "code",
   "execution_count": 40,
   "metadata": {},
   "outputs": [],
   "source": [
    "categorical_cols = df.select_dtypes(include=['object']).columns"
   ]
  },
  {
   "cell_type": "code",
   "execution_count": 41,
   "metadata": {},
   "outputs": [],
   "source": [
    "for col in categorical_cols:\n",
    "    df[col] = df.groupby('Department')[col].transform(\n",
    "        lambda x: x.fillna(x.mode().iloc[0] if not x.mode().empty else 'Unknown')\n",
    "    )"
   ]
  },
  {
   "cell_type": "markdown",
   "metadata": {},
   "source": [
    "Export Cleaned Data"
   ]
  },
  {
   "cell_type": "code",
   "execution_count": 42,
   "metadata": {},
   "outputs": [],
   "source": [
    "df.to_csv(\"Hospital_Operations_Cleaned.csv\", index=False)"
   ]
  }
 ],
 "metadata": {
  "kernelspec": {
   "display_name": "base",
   "language": "python",
   "name": "python3"
  },
  "language_info": {
   "codemirror_mode": {
    "name": "ipython",
    "version": 3
   },
   "file_extension": ".py",
   "mimetype": "text/x-python",
   "name": "python",
   "nbconvert_exporter": "python",
   "pygments_lexer": "ipython3",
   "version": "3.12.7"
  }
 },
 "nbformat": 4,
 "nbformat_minor": 2
}
