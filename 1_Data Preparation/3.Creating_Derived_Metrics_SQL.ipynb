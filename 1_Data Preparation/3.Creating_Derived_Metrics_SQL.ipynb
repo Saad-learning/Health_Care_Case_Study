{
 "cells": [
  {
   "cell_type": "code",
   "execution_count": 1,
   "metadata": {},
   "outputs": [],
   "source": [
    "import pyodbc\n",
    "import pandas as pd"
   ]
  },
  {
   "cell_type": "code",
   "execution_count": 2,
   "metadata": {},
   "outputs": [
    {
     "name": "stdout",
     "output_type": "stream",
     "text": [
      "Connected successfully!\n"
     ]
    }
   ],
   "source": [
    "DRIVER_NAME = 'ODBC Driver 17 for SQL Server'\n",
    "SERVER_NAME = r'DESKTOP-L3GBMQ5\\SQLEXPRESS'\n",
    "DATABASE_NAME = 'Healthcare_Case_Study'\n",
    "\n",
    "connection_string = (\n",
    "    f\"DRIVER={{{DRIVER_NAME}}};\"\n",
    "    f\"SERVER={SERVER_NAME};\"\n",
    "    f\"DATABASE={DATABASE_NAME};\"\n",
    "    f\"Trusted_Connection=yes;\"\n",
    ")\n",
    "\n",
    "conn = pyodbc.connect(connection_string)\n",
    "cursor = conn.cursor()\n",
    "print(\"Connected successfully!\")"
   ]
  },
  {
   "cell_type": "markdown",
   "metadata": {},
   "source": [
    "KPI Summary table"
   ]
  },
  {
   "cell_type": "code",
   "execution_count": 14,
   "metadata": {},
   "outputs": [
    {
     "data": {
      "text/plain": [
       "<pyodbc.Cursor at 0x2bf82ebab30>"
      ]
     },
     "execution_count": 14,
     "metadata": {},
     "output_type": "execute_result"
    }
   ],
   "source": [
    "cursor.execute(\n",
    "    \"\"\"\n",
    "    IF OBJECT_ID('dbo.Patients', 'U') IS NOT NULL\n",
    "    DROP TABLE Hospital_KPI_Summary;\n",
    "    \n",
    "    DROP TABLE IF EXISTS Hospital_KPI_Summary;\n",
    "    \n",
    "    SELECT\n",
    "        Department\n",
    "        ,COUNT(Patient_ID) AS Total_Patients\n",
    "        ,ROUND(AVG(Length_of_Stay), 2) AS Avg_Length_of_Stay\n",
    "        ,ROUND(AVG(Wait_Time_Minutes), 2) AS Avg_Wait_Time\n",
    "        ,ROUND(AVG(Satisfaction_Score), 2) AS Avg_Satisfaction_Score\n",
    "        ,ROUND(SUM(Total_Revenue), 2) AS Total_Revenue\n",
    "        ,ROUND(SUM(Treatment_Cost), 2) AS Total_Treatment_Cost\n",
    "        ,ROUND(SUM(Profit), 2) AS Total_Profit\n",
    "        ,ROUND(SUM(CAST(Readmission_30Days AS FLOAT))*100.0 / COUNT(*),2) AS Readmission_Rate_Percent\n",
    "        ,ROUND(SUM(Total_Revenue)/COUNT(Patient_ID),2) AS Revenue_Per_Patient\n",
    "        ,ROUND(SUM(Profit)/COUNT(Patient_ID),2) AS Profit_Per_Patient\n",
    "    INTO\n",
    "        Hospital_KPI_summary\n",
    "    FROM\n",
    "        Hospital_Operations_Cleaned_2\n",
    "    GROUP BY\n",
    "        Department;\n",
    "    \"\"\"\n",
    ")"
   ]
  },
  {
   "cell_type": "code",
   "execution_count": 6,
   "metadata": {},
   "outputs": [],
   "source": [
    "conn.commit()"
   ]
  },
  {
   "cell_type": "markdown",
   "metadata": {},
   "source": [
    "Display Result"
   ]
  },
  {
   "cell_type": "code",
   "execution_count": 16,
   "metadata": {},
   "outputs": [
    {
     "name": "stderr",
     "output_type": "stream",
     "text": [
      "C:\\Users\\GIGABYTE\\AppData\\Local\\Temp\\ipykernel_12652\\2927823847.py:1: UserWarning: pandas only supports SQLAlchemy connectable (engine/connection) or database string URI or sqlite3 DBAPI2 connection. Other DBAPI2 objects are not tested. Please consider using SQLAlchemy.\n",
      "  df_kpi = pd.read_sql(\"SELECT * FROM Hospital_KPI_Summary ORDER BY Total_Patients DESC;\", conn)\n"
     ]
    },
    {
     "data": {
      "application/vnd.microsoft.datawrangler.viewer.v0+json": {
       "columns": [
        {
         "name": "index",
         "rawType": "int64",
         "type": "integer"
        },
        {
         "name": "Department",
         "rawType": "object",
         "type": "string"
        },
        {
         "name": "Total_Patients",
         "rawType": "int64",
         "type": "integer"
        },
        {
         "name": "Avg_Length_of_Stay",
         "rawType": "float64",
         "type": "float"
        },
        {
         "name": "Avg_Wait_Time",
         "rawType": "float64",
         "type": "float"
        },
        {
         "name": "Avg_Satisfaction_Score",
         "rawType": "float64",
         "type": "float"
        },
        {
         "name": "Total_Revenue",
         "rawType": "float64",
         "type": "float"
        },
        {
         "name": "Total_Treatment_Cost",
         "rawType": "float64",
         "type": "float"
        },
        {
         "name": "Total_Profit",
         "rawType": "float64",
         "type": "float"
        },
        {
         "name": "Readmission_Rate_Percent",
         "rawType": "float64",
         "type": "float"
        },
        {
         "name": "Revenue_Per_Patient",
         "rawType": "float64",
         "type": "float"
        },
        {
         "name": "Profit_Per_Patient",
         "rawType": "float64",
         "type": "float"
        }
       ],
       "ref": "2c9d8e9c-0364-474a-8f85-503eac245631",
       "rows": [
        [
         "0",
         "Oncology",
         "266",
         "6.64",
         "92.04",
         "5.54",
         "663944.74",
         "514081.54",
         "149863.2",
         "0.0",
         "2496.03",
         "563.4"
        ],
        [
         "1",
         "Ortho",
         "136",
         "7.01",
         "86.28",
         "5.54",
         "325237.64",
         "260318.38",
         "64919.27",
         "0.0",
         "2391.45",
         "477.35"
        ],
        [
         "2",
         "Cardio",
         "134",
         "7.03",
         "93.78",
         "5.13",
         "320094.76",
         "249667.53",
         "70427.23",
         "0.0",
         "2388.77",
         "525.58"
        ],
        [
         "3",
         "Pediatrics",
         "129",
         "7.48",
         "93.64",
         "5.36",
         "324494.16",
         "260318.64",
         "64175.52",
         "0.0",
         "2515.46",
         "497.48"
        ],
        [
         "4",
         "Pediatric",
         "127",
         "7.11",
         "88.24",
         "5.09",
         "295297.1",
         "227956.76",
         "67340.34",
         "0.0",
         "2325.17",
         "530.24"
        ],
        [
         "5",
         "Cardiology",
         "124",
         "7.85",
         "83.87",
         "5.53",
         "309855.15",
         "247569.6",
         "62285.55",
         "0.0",
         "2498.83",
         "502.3"
        ],
        [
         "6",
         "Cardiology Dept.",
         "120",
         "7.38",
         "92.15",
         "5.11",
         "295016.17",
         "232060.06",
         "62956.11",
         "0.0",
         "2458.47",
         "524.63"
        ],
        [
         "7",
         "Emergency",
         "113",
         "6.87",
         "92.02",
         "5.66",
         "285050.73",
         "229394.27",
         "55656.46",
         "0.0",
         "2522.57",
         "492.54"
        ],
        [
         "8",
         "Orthopedics",
         "103",
         "8.03",
         "94.15",
         "5.4",
         "234353.01",
         "180526.38",
         "53826.63",
         "0.0",
         "2275.27",
         "522.59"
        ]
       ],
       "shape": {
        "columns": 11,
        "rows": 9
       }
      },
      "text/html": [
       "<div>\n",
       "<style scoped>\n",
       "    .dataframe tbody tr th:only-of-type {\n",
       "        vertical-align: middle;\n",
       "    }\n",
       "\n",
       "    .dataframe tbody tr th {\n",
       "        vertical-align: top;\n",
       "    }\n",
       "\n",
       "    .dataframe thead th {\n",
       "        text-align: right;\n",
       "    }\n",
       "</style>\n",
       "<table border=\"1\" class=\"dataframe\">\n",
       "  <thead>\n",
       "    <tr style=\"text-align: right;\">\n",
       "      <th></th>\n",
       "      <th>Department</th>\n",
       "      <th>Total_Patients</th>\n",
       "      <th>Avg_Length_of_Stay</th>\n",
       "      <th>Avg_Wait_Time</th>\n",
       "      <th>Avg_Satisfaction_Score</th>\n",
       "      <th>Total_Revenue</th>\n",
       "      <th>Total_Treatment_Cost</th>\n",
       "      <th>Total_Profit</th>\n",
       "      <th>Readmission_Rate_Percent</th>\n",
       "      <th>Revenue_Per_Patient</th>\n",
       "      <th>Profit_Per_Patient</th>\n",
       "    </tr>\n",
       "  </thead>\n",
       "  <tbody>\n",
       "    <tr>\n",
       "      <th>0</th>\n",
       "      <td>Oncology</td>\n",
       "      <td>266</td>\n",
       "      <td>6.64</td>\n",
       "      <td>92.04</td>\n",
       "      <td>5.54</td>\n",
       "      <td>663944.74</td>\n",
       "      <td>514081.54</td>\n",
       "      <td>149863.20</td>\n",
       "      <td>0.0</td>\n",
       "      <td>2496.03</td>\n",
       "      <td>563.40</td>\n",
       "    </tr>\n",
       "    <tr>\n",
       "      <th>1</th>\n",
       "      <td>Ortho</td>\n",
       "      <td>136</td>\n",
       "      <td>7.01</td>\n",
       "      <td>86.28</td>\n",
       "      <td>5.54</td>\n",
       "      <td>325237.64</td>\n",
       "      <td>260318.38</td>\n",
       "      <td>64919.27</td>\n",
       "      <td>0.0</td>\n",
       "      <td>2391.45</td>\n",
       "      <td>477.35</td>\n",
       "    </tr>\n",
       "    <tr>\n",
       "      <th>2</th>\n",
       "      <td>Cardio</td>\n",
       "      <td>134</td>\n",
       "      <td>7.03</td>\n",
       "      <td>93.78</td>\n",
       "      <td>5.13</td>\n",
       "      <td>320094.76</td>\n",
       "      <td>249667.53</td>\n",
       "      <td>70427.23</td>\n",
       "      <td>0.0</td>\n",
       "      <td>2388.77</td>\n",
       "      <td>525.58</td>\n",
       "    </tr>\n",
       "    <tr>\n",
       "      <th>3</th>\n",
       "      <td>Pediatrics</td>\n",
       "      <td>129</td>\n",
       "      <td>7.48</td>\n",
       "      <td>93.64</td>\n",
       "      <td>5.36</td>\n",
       "      <td>324494.16</td>\n",
       "      <td>260318.64</td>\n",
       "      <td>64175.52</td>\n",
       "      <td>0.0</td>\n",
       "      <td>2515.46</td>\n",
       "      <td>497.48</td>\n",
       "    </tr>\n",
       "    <tr>\n",
       "      <th>4</th>\n",
       "      <td>Pediatric</td>\n",
       "      <td>127</td>\n",
       "      <td>7.11</td>\n",
       "      <td>88.24</td>\n",
       "      <td>5.09</td>\n",
       "      <td>295297.10</td>\n",
       "      <td>227956.76</td>\n",
       "      <td>67340.34</td>\n",
       "      <td>0.0</td>\n",
       "      <td>2325.17</td>\n",
       "      <td>530.24</td>\n",
       "    </tr>\n",
       "    <tr>\n",
       "      <th>5</th>\n",
       "      <td>Cardiology</td>\n",
       "      <td>124</td>\n",
       "      <td>7.85</td>\n",
       "      <td>83.87</td>\n",
       "      <td>5.53</td>\n",
       "      <td>309855.15</td>\n",
       "      <td>247569.60</td>\n",
       "      <td>62285.55</td>\n",
       "      <td>0.0</td>\n",
       "      <td>2498.83</td>\n",
       "      <td>502.30</td>\n",
       "    </tr>\n",
       "    <tr>\n",
       "      <th>6</th>\n",
       "      <td>Cardiology Dept.</td>\n",
       "      <td>120</td>\n",
       "      <td>7.38</td>\n",
       "      <td>92.15</td>\n",
       "      <td>5.11</td>\n",
       "      <td>295016.17</td>\n",
       "      <td>232060.06</td>\n",
       "      <td>62956.11</td>\n",
       "      <td>0.0</td>\n",
       "      <td>2458.47</td>\n",
       "      <td>524.63</td>\n",
       "    </tr>\n",
       "    <tr>\n",
       "      <th>7</th>\n",
       "      <td>Emergency</td>\n",
       "      <td>113</td>\n",
       "      <td>6.87</td>\n",
       "      <td>92.02</td>\n",
       "      <td>5.66</td>\n",
       "      <td>285050.73</td>\n",
       "      <td>229394.27</td>\n",
       "      <td>55656.46</td>\n",
       "      <td>0.0</td>\n",
       "      <td>2522.57</td>\n",
       "      <td>492.54</td>\n",
       "    </tr>\n",
       "    <tr>\n",
       "      <th>8</th>\n",
       "      <td>Orthopedics</td>\n",
       "      <td>103</td>\n",
       "      <td>8.03</td>\n",
       "      <td>94.15</td>\n",
       "      <td>5.40</td>\n",
       "      <td>234353.01</td>\n",
       "      <td>180526.38</td>\n",
       "      <td>53826.63</td>\n",
       "      <td>0.0</td>\n",
       "      <td>2275.27</td>\n",
       "      <td>522.59</td>\n",
       "    </tr>\n",
       "  </tbody>\n",
       "</table>\n",
       "</div>"
      ],
      "text/plain": [
       "         Department  Total_Patients  Avg_Length_of_Stay  Avg_Wait_Time  \\\n",
       "0          Oncology             266                6.64          92.04   \n",
       "1             Ortho             136                7.01          86.28   \n",
       "2            Cardio             134                7.03          93.78   \n",
       "3        Pediatrics             129                7.48          93.64   \n",
       "4         Pediatric             127                7.11          88.24   \n",
       "5        Cardiology             124                7.85          83.87   \n",
       "6  Cardiology Dept.             120                7.38          92.15   \n",
       "7         Emergency             113                6.87          92.02   \n",
       "8       Orthopedics             103                8.03          94.15   \n",
       "\n",
       "   Avg_Satisfaction_Score  Total_Revenue  Total_Treatment_Cost  Total_Profit  \\\n",
       "0                    5.54      663944.74             514081.54     149863.20   \n",
       "1                    5.54      325237.64             260318.38      64919.27   \n",
       "2                    5.13      320094.76             249667.53      70427.23   \n",
       "3                    5.36      324494.16             260318.64      64175.52   \n",
       "4                    5.09      295297.10             227956.76      67340.34   \n",
       "5                    5.53      309855.15             247569.60      62285.55   \n",
       "6                    5.11      295016.17             232060.06      62956.11   \n",
       "7                    5.66      285050.73             229394.27      55656.46   \n",
       "8                    5.40      234353.01             180526.38      53826.63   \n",
       "\n",
       "   Readmission_Rate_Percent  Revenue_Per_Patient  Profit_Per_Patient  \n",
       "0                       0.0              2496.03              563.40  \n",
       "1                       0.0              2391.45              477.35  \n",
       "2                       0.0              2388.77              525.58  \n",
       "3                       0.0              2515.46              497.48  \n",
       "4                       0.0              2325.17              530.24  \n",
       "5                       0.0              2498.83              502.30  \n",
       "6                       0.0              2458.47              524.63  \n",
       "7                       0.0              2522.57              492.54  \n",
       "8                       0.0              2275.27              522.59  "
      ]
     },
     "execution_count": 16,
     "metadata": {},
     "output_type": "execute_result"
    }
   ],
   "source": [
    "df_kpi = pd.read_sql(\"SELECT * FROM Hospital_KPI_Summary ORDER BY Total_Patients DESC;\", conn)\n",
    "df_kpi.head(10)"
   ]
  }
 ],
 "metadata": {
  "kernelspec": {
   "display_name": "base",
   "language": "python",
   "name": "python3"
  },
  "language_info": {
   "codemirror_mode": {
    "name": "ipython",
    "version": 3
   },
   "file_extension": ".py",
   "mimetype": "text/x-python",
   "name": "python",
   "nbconvert_exporter": "python",
   "pygments_lexer": "ipython3",
   "version": "3.12.7"
  }
 },
 "nbformat": 4,
 "nbformat_minor": 2
}
