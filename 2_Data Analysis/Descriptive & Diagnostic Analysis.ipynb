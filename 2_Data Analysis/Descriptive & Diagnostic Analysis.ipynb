{
 "cells": [
  {
   "cell_type": "code",
   "execution_count": 1,
   "metadata": {},
   "outputs": [],
   "source": [
    "import pyodbc\n",
    "import pandas as pd"
   ]
  },
  {
   "cell_type": "code",
   "execution_count": 2,
   "metadata": {},
   "outputs": [
    {
     "name": "stdout",
     "output_type": "stream",
     "text": [
      "Connected successfully!\n"
     ]
    }
   ],
   "source": [
    "DRIVER_NAME = 'ODBC Driver 17 for SQL Server'\n",
    "SERVER_NAME = r'DESKTOP-L3GBMQ5\\SQLEXPRESS'\n",
    "DATABASE_NAME = 'Healthcare_Case_Study'\n",
    "\n",
    "connection_string = (\n",
    "    f\"DRIVER={{{DRIVER_NAME}}};\"\n",
    "    f\"SERVER={SERVER_NAME};\"\n",
    "    f\"DATABASE={DATABASE_NAME};\"\n",
    "    f\"Trusted_Connection=yes;\"\n",
    ")\n",
    "\n",
    "conn = pyodbc.connect(connection_string)\n",
    "cursor = conn.cursor()\n",
    "print(\"Connected successfully!\")"
   ]
  },
  {
   "cell_type": "markdown",
   "metadata": {},
   "source": [
    "Departments with the Longest Average Stays"
   ]
  },
  {
   "cell_type": "code",
   "execution_count": 3,
   "metadata": {},
   "outputs": [
    {
     "data": {
      "text/plain": [
       "<pyodbc.Cursor at 0x1cc0717a130>"
      ]
     },
     "execution_count": 3,
     "metadata": {},
     "output_type": "execute_result"
    }
   ],
   "source": [
    "cursor.execute(\"\"\"\n",
    "            SELECT\n",
    "                Department\n",
    "                ,ROUND(AVG(Length_of_Stay), 2) AS Average_Length_of_Stay\n",
    "            FROM\n",
    "                Hospital_Operations_Cleaned_2\n",
    "            GROUP BY\n",
    "                Department\n",
    "            ORDER BY\n",
    "                Average_Length_of_Stay DESC;\n",
    "               \"\"\")"
   ]
  },
  {
   "cell_type": "code",
   "execution_count": 4,
   "metadata": {},
   "outputs": [],
   "source": [
    "conn.commit()"
   ]
  },
  {
   "cell_type": "markdown",
   "metadata": {},
   "source": [
    "Region with the Highest Readmission Rate"
   ]
  },
  {
   "cell_type": "code",
   "execution_count": 8,
   "metadata": {},
   "outputs": [
    {
     "data": {
      "text/plain": [
       "<pyodbc.Cursor at 0x1cc0717a130>"
      ]
     },
     "execution_count": 8,
     "metadata": {},
     "output_type": "execute_result"
    }
   ],
   "source": [
    "cursor.execute(\"\"\"\n",
    "            SELECT\n",
    "                Region\n",
    "                ,ROUND(SUM( \n",
    "                    CAST(Readmission_30Days AS FLOAT)) * 100.0 / COUNT(*), 2) AS Readmission_Rate_Percent\n",
    "                FROM\n",
    "                    Hospital_Operations_Cleaned_2\n",
    "                GROUP BY\n",
    "                    Region\n",
    "                ORDER BY\n",
    "                    Readmission_Rate_Percent DESC;\n",
    "               \"\"\")"
   ]
  },
  {
   "cell_type": "code",
   "execution_count": 9,
   "metadata": {},
   "outputs": [],
   "source": [
    "conn.commit()"
   ]
  },
  {
   "cell_type": "markdown",
   "metadata": {},
   "source": [
    "Insurance Type Contributing the Most to Revenue"
   ]
  },
  {
   "cell_type": "code",
   "execution_count": 10,
   "metadata": {},
   "outputs": [
    {
     "data": {
      "text/plain": [
       "<pyodbc.Cursor at 0x1cc0717a130>"
      ]
     },
     "execution_count": 10,
     "metadata": {},
     "output_type": "execute_result"
    }
   ],
   "source": [
    "cursor.execute(\"\"\"\n",
    "            SELECT\n",
    "                Insurance_Type\n",
    "                ,ROUND(SUM(Total_Revenue), 2) AS Total_Revenue\n",
    "                ,ROUND(SUM(Total_Revenue) * 001.0 / SUM(SUM(Total_Revenue)) OVER (), 2) AS Revenue_Percent\n",
    "            FROM\n",
    "                Hospital_Operations_Cleaned_2\n",
    "            GROUP BY\n",
    "                Insurance_Type\n",
    "            ORDER BY\n",
    "                Total_Revenue DESC;\n",
    "            \"\"\")"
   ]
  },
  {
   "cell_type": "code",
   "execution_count": 11,
   "metadata": {},
   "outputs": [],
   "source": [
    "conn.commit()"
   ]
  },
  {
   "cell_type": "markdown",
   "metadata": {},
   "source": [
    "Correlation between Wait and Satisfaction"
   ]
  },
  {
   "cell_type": "code",
   "execution_count": 17,
   "metadata": {},
   "outputs": [
    {
     "data": {
      "text/plain": [
       "<pyodbc.Cursor at 0x1cc0717a130>"
      ]
     },
     "execution_count": 17,
     "metadata": {},
     "output_type": "execute_result"
    }
   ],
   "source": [
    "cursor.execute(\"\"\"\n",
    "WITH Stats AS (\n",
    "    SELECT \n",
    "        AVG(Wait_Time_Minutes) AS Avg_Wait,\n",
    "        AVG(Satisfaction_Score) AS Avg_Satisfaction,\n",
    "        STDEV(Wait_Time_Minutes) AS Std_Wait,\n",
    "        STDEV(Satisfaction_Score) AS Std_Satisfaction,\n",
    "        COUNT(*) AS N\n",
    "    FROM Hospital_Operations_Cleaned_2\n",
    ")\n",
    "SELECT \n",
    "    ROUND(\n",
    "        (SELECT SUM((h.Wait_Time_Minutes - s.Avg_Wait) * (h.Satisfaction_Score - s.Avg_Satisfaction))\n",
    "         FROM Hospital_Operations_Cleaned_2 h, Stats s)\n",
    "        /\n",
    "        ((SELECT (s.N - 1) * s.Std_Wait * s.Std_Satisfaction FROM Stats s)),\n",
    "        3\n",
    "    ) AS Correlation_Wait_Satisfaction;\n",
    "                \"\"\")"
   ]
  },
  {
   "cell_type": "code",
   "execution_count": 18,
   "metadata": {},
   "outputs": [],
   "source": [
    "conn.commit()"
   ]
  }
 ],
 "metadata": {
  "kernelspec": {
   "display_name": "base",
   "language": "python",
   "name": "python3"
  },
  "language_info": {
   "codemirror_mode": {
    "name": "ipython",
    "version": 3
   },
   "file_extension": ".py",
   "mimetype": "text/x-python",
   "name": "python",
   "nbconvert_exporter": "python",
   "pygments_lexer": "ipython3",
   "version": "3.12.7"
  }
 },
 "nbformat": 4,
 "nbformat_minor": 2
}
